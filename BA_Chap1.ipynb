{
 "cells": [
  {
   "cell_type": "markdown",
   "metadata": {},
   "source": [
    "# 1.1 様々な正規分布"
   ]
  },
  {
   "cell_type": "markdown",
   "metadata": {},
   "source": [
    "確率分布は，事象がどれほど異なって生じるかを記述するものです．\n",
    "確率分布の中で，最も有名な分布と言えるガウス分布（Gaussian distribution）または正規分布（normal distribution）を例にとります．\n",
    "\n",
    "ある変数$x$がガウス分布（正規分布）に従う場合，以下の式によって表されます．\n",
    "\n",
    "$f ( x | \\mu, \\sigma ) = \\cfrac{1}{\\sigma \\sqrt{2 \\pi}} e^{\\frac{- (x - \\mu)^{2}}{2 \\sigma^{2}}}$\n",
    "\n",
    "上記の数式において，$\\mu$と$\\sigma$が分布を特徴づけるパラメータになります．\n",
    "$\\mu$は分布の平均値（mean）で，任意の実数値をとります．ガウス分布（正規分布）においては，平均値は中央値（median）でもあり，最頻値（mode）でもあります．\n",
    "$\\sigma$は標準偏差（standard deviation）で，正の値のみをとります．$\\sigma$は分布の広がりを表します．\n",
    "\n",
    "$\\mu$と$\\sigma$の組み合わせは無限に存在し，これらの全てはガウス分布（正規分布）族に属します．いかに，いくつかの組み合わせのガウス分布（正規分布）を示すPythonのコードを示します．"
   ]
  },
  {
   "cell_type": "code",
   "execution_count": 1,
   "metadata": {},
   "outputs": [],
   "source": [
    "import matplotlib.pyplot as plt\n",
    "import numpy as np\n",
    "from scipy import stats\n",
    "import seaborn as sns\n",
    "plt.style.use('seaborn-darkgrid')\n",
    "\n",
    "mu_params = [-1, 0, 1]\n",
    "sd_params = [0.5, 1, 1.5]\n",
    "x = np.linspace(-7, 7, 100)\n",
    "f, ax = plt.subplots(len(mu_params), len(sd_params), sharex = True, sharey = True)\n",
    "\n",
    "for i in range(3):\n",
    "    for j in range(3):\n",
    "        mu = mu_params[i]\n",
    "        sd = sd_params[j]\n",
    "        y = stats.norm(mu, sd).pdf(x)\n",
    "        ax[i, j].plot(x, y)\n",
    "        ax[i, j].plot(0, 0, label = \"$\\\\mu$ = {:3.2f}\\n$\\\\sigma$ = {:3.2f}\".format(mu, sd), alpha = 0)\n",
    "        ax[i, j].legend(fontsize = 8)\n",
    "        \n",
    "    ax[2, 1].set_xlabel('$x$', fontsize = 14)\n",
    "    ax[1, 0].set_ylabel('$pdf(x)$', fontsize = 14)\n",
    "    plt.tight_layout()\n",
    "    plt.savefig('img101.png')"
   ]
  },
  {
   "cell_type": "markdown",
   "metadata": {},
   "source": [
    "上記のコードを実行すると，図（img101.png）が作成されます．\n",
    "\n",
    "確率分布に由来する$x$のような一つの変数は，確率変数（random variable）と呼ばれます．その変数は任意の値をとることができるというわけではなく，確率分布による制約に支配されます．でたらめさ（randomness）はその変数がどのような値をとるのかを予測できないという事実から生じるのではなく，観測するそれらの値の確率から生じます．\n",
    "\n",
    "パラメータ$\\mu$と$\\sigma$を持つガウス分布（正規分布）に従う変数は，一般に次のように表記されます．\n",
    "\n",
    "$ x \\sim N(\\mu, \\sigma)$\n",
    "\n",
    "記号は「$\\sim$に従って分布する」という意味です．"
   ]
  },
  {
   "cell_type": "code",
   "execution_count": null,
   "metadata": {},
   "outputs": [],
   "source": []
  }
 ],
 "metadata": {
  "@webio": {
   "lastCommId": null,
   "lastKernelId": null
  },
  "kernelspec": {
   "display_name": "Python 3",
   "language": "python",
   "name": "python3"
  },
  "language_info": {
   "codemirror_mode": {
    "name": "ipython",
    "version": 3
   },
   "file_extension": ".py",
   "mimetype": "text/x-python",
   "name": "python",
   "nbconvert_exporter": "python",
   "pygments_lexer": "ipython3",
   "version": "3.6.8"
  }
 },
 "nbformat": 4,
 "nbformat_minor": 2
}
